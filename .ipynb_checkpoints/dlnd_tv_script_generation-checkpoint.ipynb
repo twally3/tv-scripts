{
 "cells": [
  {
   "cell_type": "markdown",
   "metadata": {
    "deletable": true,
    "editable": true
   },
   "source": [
    "# TV Script Generation\n",
    "In this project, you'll generate your own [Simpsons](https://en.wikipedia.org/wiki/The_Simpsons) TV scripts using RNNs.  You'll be using part of the [Simpsons dataset](https://www.kaggle.com/wcukierski/the-simpsons-by-the-data) of scripts from 27 seasons.  The Neural Network you'll build will generate a new TV script for a scene at [Moe's Tavern](https://simpsonswiki.com/wiki/Moe's_Tavern).\n",
    "## Get the Data\n",
    "The data is already provided for you.  You'll be using a subset of the original dataset.  It consists of only the scenes in Moe's Tavern.  This doesn't include other versions of the tavern, like \"Moe's Cavern\", \"Flaming Moe's\", \"Uncle Moe's Family Feed-Bag\", etc.."
   ]
  },
  {
   "cell_type": "code",
   "execution_count": 1,
   "metadata": {
    "collapsed": false,
    "deletable": true,
    "editable": true
   },
   "outputs": [],
   "source": [
    "\"\"\"\n",
    "DON'T MODIFY ANYTHING IN THIS CELL\n",
    "\"\"\"\n",
    "import helper\n",
    "\n",
    "data_dir = './data/simpsons/moes_tavern_lines.txt'\n",
    "text = helper.load_data(data_dir)\n",
    "# Ignore notice, since we don't use it for analysing the data\n",
    "text = text[81:]"
   ]
  },
  {
   "cell_type": "markdown",
   "metadata": {
    "deletable": true,
    "editable": true
   },
   "source": [
    "## Explore the Data\n",
    "Play around with `view_sentence_range` to view different parts of the data."
   ]
  },
  {
   "cell_type": "code",
   "execution_count": 2,
   "metadata": {
    "collapsed": false,
    "deletable": true,
    "editable": true
   },
   "outputs": [
    {
     "name": "stdout",
     "output_type": "stream",
     "text": [
      "Dataset Stats\n",
      "Roughly the number of unique words: 11492\n",
      "Number of scenes: 262\n",
      "Average number of sentences in each scene: 15.248091603053435\n",
      "Number of lines: 4257\n",
      "Average number of words in each line: 11.50434578341555\n",
      "\n",
      "The sentences 0 to 10:\n",
      "Moe_Szyslak: (INTO PHONE) Moe's Tavern. Where the elite meet to drink.\n",
      "Bart_Simpson: Eh, yeah, hello, is Mike there? Last name, Rotch.\n",
      "Moe_Szyslak: (INTO PHONE) Hold on, I'll check. (TO BARFLIES) Mike Rotch. Mike Rotch. Hey, has anybody seen Mike Rotch, lately?\n",
      "Moe_Szyslak: (INTO PHONE) Listen you little puke. One of these days I'm gonna catch you, and I'm gonna carve my name on your back with an ice pick.\n",
      "Moe_Szyslak: What's the matter Homer? You're not your normal effervescent self.\n",
      "Homer_Simpson: I got my problems, Moe. Give me another one.\n",
      "Moe_Szyslak: Homer, hey, you should not drink to forget your problems.\n",
      "Barney_Gumble: Yeah, you should only drink to enhance your social skills.\n",
      "\n",
      "\n"
     ]
    }
   ],
   "source": [
    "view_sentence_range = (0, 10)\n",
    "\n",
    "\"\"\"\n",
    "DON'T MODIFY ANYTHING IN THIS CELL\n",
    "\"\"\"\n",
    "import numpy as np\n",
    "\n",
    "print('Dataset Stats')\n",
    "print('Roughly the number of unique words: {}'.format(len({word: None for word in text.split()})))\n",
    "scenes = text.split('\\n\\n')\n",
    "print('Number of scenes: {}'.format(len(scenes)))\n",
    "sentence_count_scene = [scene.count('\\n') for scene in scenes]\n",
    "print('Average number of sentences in each scene: {}'.format(np.average(sentence_count_scene)))\n",
    "\n",
    "sentences = [sentence for scene in scenes for sentence in scene.split('\\n')]\n",
    "print('Number of lines: {}'.format(len(sentences)))\n",
    "word_count_sentence = [len(sentence.split()) for sentence in sentences]\n",
    "print('Average number of words in each line: {}'.format(np.average(word_count_sentence)))\n",
    "\n",
    "print()\n",
    "print('The sentences {} to {}:'.format(*view_sentence_range))\n",
    "print('\\n'.join(text.split('\\n')[view_sentence_range[0]:view_sentence_range[1]]))"
   ]
  },
  {
   "cell_type": "markdown",
   "metadata": {
    "deletable": true,
    "editable": true
   },
   "source": [
    "## Implement Preprocessing Functions\n",
    "The first thing to do to any dataset is preprocessing.  Implement the following preprocessing functions below:\n",
    "- Lookup Table\n",
    "- Tokenize Punctuation\n",
    "\n",
    "### Lookup Table\n",
    "To create a word embedding, you first need to transform the words to ids.  In this function, create two dictionaries:\n",
    "- Dictionary to go from the words to an id, we'll call `vocab_to_int`\n",
    "- Dictionary to go from the id to word, we'll call `int_to_vocab`\n",
    "\n",
    "Return these dictionaries in the following tuple `(vocab_to_int, int_to_vocab)`"
   ]
  },
  {
   "cell_type": "code",
   "execution_count": 3,
   "metadata": {
    "collapsed": false,
    "deletable": true,
    "editable": true
   },
   "outputs": [
    {
     "name": "stdout",
     "output_type": "stream",
     "text": [
      "Tests Passed\n"
     ]
    }
   ],
   "source": [
    "import numpy as np\n",
    "import problem_unittests as tests\n",
    "\n",
    "def create_lookup_tables(text):\n",
    "    vocab = set(text)\n",
    "    vocab_to_int = {c: i for i, c in enumerate(vocab)}\n",
    "    int_to_vocab = dict(enumerate(vocab))\n",
    "\n",
    "    return vocab_to_int, int_to_vocab\n",
    "\n",
    "\n",
    "\"\"\"\n",
    "DON'T MODIFY ANYTHING IN THIS CELL THAT IS BELOW THIS LINE\n",
    "\"\"\"\n",
    "tests.test_create_lookup_tables(create_lookup_tables)"
   ]
  },
  {
   "cell_type": "markdown",
   "metadata": {
    "deletable": true,
    "editable": true
   },
   "source": [
    "### Tokenize Punctuation\n",
    "We'll be splitting the script into a word array using spaces as delimiters.  However, punctuations like periods and exclamation marks make it hard for the neural network to distinguish between the word \"bye\" and \"bye!\".\n",
    "\n",
    "Implement the function `token_lookup` to return a dict that will be used to tokenize symbols like \"!\" into \"||Exclamation_Mark||\".  Create a dictionary for the following symbols where the symbol is the key and value is the token:\n",
    "- Period ( . )\n",
    "- Comma ( , )\n",
    "- Quotation Mark ( \" )\n",
    "- Semicolon ( ; )\n",
    "- Exclamation mark ( ! )\n",
    "- Question mark ( ? )\n",
    "- Left Parentheses ( ( )\n",
    "- Right Parentheses ( ) )\n",
    "- Dash ( -- )\n",
    "- Return ( \\n )\n",
    "\n",
    "This dictionary will be used to token the symbols and add the delimiter (space) around it.  This separates the symbols as it's own word, making it easier for the neural network to predict on the next word. Make sure you don't use a token that could be confused as a word. Instead of using the token \"dash\", try using something like \"||dash||\"."
   ]
  },
  {
   "cell_type": "code",
   "execution_count": 4,
   "metadata": {
    "collapsed": false,
    "deletable": true,
    "editable": true
   },
   "outputs": [
    {
     "name": "stdout",
     "output_type": "stream",
     "text": [
      "Tests Passed\n"
     ]
    }
   ],
   "source": [
    "def token_lookup():\n",
    "    \"\"\"\n",
    "    Generate a dict to turn punctuation into a token.\n",
    "    :return: Tokenize dictionary where the key is the punctuation and the value is the token\n",
    "    \"\"\"\n",
    "    # TODO: Implement Function\n",
    "    return {\n",
    "        '.': \"||Period||\",\n",
    "        ',': \"||Comma||\",\n",
    "        '\"': \"||Quotation_Mark||\",\n",
    "        ';': \"||Semicolon||\",\n",
    "        '!': \"||Exclamation_Mark||\",\n",
    "        '?': \"||Question_Mark||\",\n",
    "        '(': \"||Left_Parentheses||\",\n",
    "        ')': \"||Right_Parentheses||\",\n",
    "        '--': \"||Dash||\",\n",
    "        '\\n': \"||Return||\",\n",
    "    }\n",
    "\n",
    "\"\"\"\n",
    "DON'T MODIFY ANYTHING IN THIS CELL THAT IS BELOW THIS LINE\n",
    "\"\"\"\n",
    "tests.test_tokenize(token_lookup)"
   ]
  },
  {
   "cell_type": "markdown",
   "metadata": {
    "deletable": true,
    "editable": true
   },
   "source": [
    "## Preprocess all the data and save it\n",
    "Running the code cell below will preprocess all the data and save it to file."
   ]
  },
  {
   "cell_type": "code",
   "execution_count": 5,
   "metadata": {
    "collapsed": false,
    "deletable": true,
    "editable": true
   },
   "outputs": [],
   "source": [
    "\"\"\"\n",
    "DON'T MODIFY ANYTHING IN THIS CELL\n",
    "\"\"\"\n",
    "# Preprocess Training, Validation, and Testing Data\n",
    "helper.preprocess_and_save_data(data_dir, token_lookup, create_lookup_tables)"
   ]
  },
  {
   "cell_type": "markdown",
   "metadata": {
    "deletable": true,
    "editable": true
   },
   "source": [
    "# Check Point\n",
    "This is your first checkpoint. If you ever decide to come back to this notebook or have to restart the notebook, you can start from here. The preprocessed data has been saved to disk."
   ]
  },
  {
   "cell_type": "code",
   "execution_count": 6,
   "metadata": {
    "collapsed": false,
    "deletable": true,
    "editable": true
   },
   "outputs": [],
   "source": [
    "\"\"\"\n",
    "DON'T MODIFY ANYTHING IN THIS CELL\n",
    "\"\"\"\n",
    "import helper\n",
    "import numpy as np\n",
    "import problem_unittests as tests\n",
    "\n",
    "int_text, vocab_to_int, int_to_vocab, token_dict = helper.load_preprocess()"
   ]
  },
  {
   "cell_type": "markdown",
   "metadata": {
    "deletable": true,
    "editable": true
   },
   "source": [
    "## Build the Neural Network\n",
    "You'll build the components necessary to build a RNN by implementing the following functions below:\n",
    "- get_inputs\n",
    "- get_init_cell\n",
    "- get_embed\n",
    "- build_rnn\n",
    "- build_nn\n",
    "- get_batches\n",
    "\n",
    "### Check the Version of TensorFlow and Access to GPU"
   ]
  },
  {
   "cell_type": "code",
   "execution_count": 7,
   "metadata": {
    "collapsed": false,
    "deletable": true,
    "editable": true
   },
   "outputs": [
    {
     "name": "stdout",
     "output_type": "stream",
     "text": [
      "TensorFlow Version: 1.0.0\n",
      "Default GPU Device: /gpu:0\n"
     ]
    }
   ],
   "source": [
    "\"\"\"\n",
    "DON'T MODIFY ANYTHING IN THIS CELL\n",
    "\"\"\"\n",
    "from distutils.version import LooseVersion\n",
    "import warnings\n",
    "import tensorflow as tf\n",
    "\n",
    "# Check TensorFlow Version\n",
    "assert LooseVersion(tf.__version__) >= LooseVersion('1.0'), 'Please use TensorFlow version 1.0 or newer'\n",
    "print('TensorFlow Version: {}'.format(tf.__version__))\n",
    "\n",
    "# Check for a GPU\n",
    "if not tf.test.gpu_device_name():\n",
    "    warnings.warn('No GPU found. Please use a GPU to train your neural network.')\n",
    "else:\n",
    "    print('Default GPU Device: {}'.format(tf.test.gpu_device_name()))"
   ]
  },
  {
   "cell_type": "markdown",
   "metadata": {
    "deletable": true,
    "editable": true
   },
   "source": [
    "### Input\n",
    "Implement the `get_inputs()` function to create TF Placeholders for the Neural Network.  It should create the following placeholders:\n",
    "- Input text placeholder named \"input\" using the [TF Placeholder](https://www.tensorflow.org/api_docs/python/tf/placeholder) `name` parameter.\n",
    "- Targets placeholder\n",
    "- Learning Rate placeholder\n",
    "\n",
    "Return the placeholders in the following the tuple `(Input, Targets, LearingRate)`"
   ]
  },
  {
   "cell_type": "code",
   "execution_count": 8,
   "metadata": {
    "collapsed": false,
    "deletable": true,
    "editable": true
   },
   "outputs": [
    {
     "name": "stdout",
     "output_type": "stream",
     "text": [
      "Tests Passed\n"
     ]
    }
   ],
   "source": [
    "def get_inputs():\n",
    "    \"\"\"\n",
    "    Create TF Placeholders for input, targets, and learning rate.\n",
    "    :return: Tuple (input, targets, learning rate)\n",
    "    \"\"\"\n",
    "    # TODO: Implement Function\n",
    "    return tf.placeholder(tf.int32, (None, None), name=\"input\"), tf.placeholder(tf.int32, (None, None), name=\"targets\"), tf.placeholder(tf.float32, name=\"LearningRate\")\n",
    "\n",
    "\n",
    "\"\"\"\n",
    "DON'T MODIFY ANYTHING IN THIS CELL THAT IS BELOW THIS LINE\n",
    "\"\"\"\n",
    "tests.test_get_inputs(get_inputs)"
   ]
  },
  {
   "cell_type": "markdown",
   "metadata": {
    "deletable": true,
    "editable": true
   },
   "source": [
    "### Build RNN Cell and Initialize\n",
    "Stack one or more [`BasicLSTMCells`](https://www.tensorflow.org/api_docs/python/tf/contrib/rnn/BasicLSTMCell) in a [`MultiRNNCell`](https://www.tensorflow.org/api_docs/python/tf/contrib/rnn/MultiRNNCell).\n",
    "- The Rnn size should be set using `rnn_size`\n",
    "- Initalize Cell State using the MultiRNNCell's [`zero_state()`](https://www.tensorflow.org/api_docs/python/tf/contrib/rnn/MultiRNNCell#zero_state) function\n",
    "    - Apply the name \"initial_state\" to the initial state using [`tf.identity()`](https://www.tensorflow.org/api_docs/python/tf/identity)\n",
    "\n",
    "Return the cell and initial state in the following tuple `(Cell, InitialState)`"
   ]
  },
  {
   "cell_type": "code",
   "execution_count": 9,
   "metadata": {
    "collapsed": false,
    "deletable": true,
    "editable": true
   },
   "outputs": [
    {
     "name": "stdout",
     "output_type": "stream",
     "text": [
      "Tests Passed\n"
     ]
    }
   ],
   "source": [
    "def get_init_cell(batch_size, rnn_size):\n",
    "    \"\"\"\n",
    "    Create an RNN Cell and initialize it.\n",
    "    :param batch_size: Size of batches\n",
    "    :param rnn_size: Size of RNNs\n",
    "    :return: Tuple (cell, initialize state)\n",
    "    \"\"\"\n",
    "    lstm = tf.contrib.rnn.BasicLSTMCell(rnn_size)\n",
    "    cell = tf.contrib.rnn.MultiRNNCell([lstm] * 2)\n",
    "    initial_state = cell.zero_state(batch_size, tf.float32)\n",
    "    initial_state = tf.identity(initial_state, name=\"initial_state\")\n",
    "    return cell, initial_state\n",
    "\n",
    "\n",
    "\"\"\"\n",
    "DON'T MODIFY ANYTHING IN THIS CELL THAT IS BELOW THIS LINE\n",
    "\"\"\"\n",
    "tests.test_get_init_cell(get_init_cell)"
   ]
  },
  {
   "cell_type": "markdown",
   "metadata": {
    "deletable": true,
    "editable": true
   },
   "source": [
    "### Word Embedding\n",
    "Apply embedding to `input_data` using TensorFlow.  Return the embedded sequence."
   ]
  },
  {
   "cell_type": "code",
   "execution_count": 10,
   "metadata": {
    "collapsed": false,
    "deletable": true,
    "editable": true
   },
   "outputs": [
    {
     "name": "stdout",
     "output_type": "stream",
     "text": [
      "Tests Passed\n"
     ]
    }
   ],
   "source": [
    "def get_embed(input_data, vocab_size, embed_dim):\n",
    "    \"\"\"\n",
    "    Create embedding for <input_data>.\n",
    "    :param input_data: TF placeholder for text input.\n",
    "    :param vocab_size: Number of words in vocabulary.\n",
    "    :param embed_dim: Number of embedding dimensions\n",
    "    :return: Embedded input.\n",
    "    \"\"\"\n",
    "    # TODO: Implement Function\n",
    "    embedding = tf.Variable(tf.random_uniform((vocab_size, embed_dim), -1, 1))\n",
    "    embed = tf.nn.embedding_lookup(embedding, input_data)\n",
    "    return embed\n",
    "\n",
    "\n",
    "\"\"\"\n",
    "DON'T MODIFY ANYTHING IN THIS CELL THAT IS BELOW THIS LINE\n",
    "\"\"\"\n",
    "tests.test_get_embed(get_embed)"
   ]
  },
  {
   "cell_type": "markdown",
   "metadata": {
    "deletable": true,
    "editable": true
   },
   "source": [
    "### Build RNN\n",
    "You created a RNN Cell in the `get_init_cell()` function.  Time to use the cell to create a RNN.\n",
    "- Build the RNN using the [`tf.nn.dynamic_rnn()`](https://www.tensorflow.org/api_docs/python/tf/nn/dynamic_rnn)\n",
    " - Apply the name \"final_state\" to the final state using [`tf.identity()`](https://www.tensorflow.org/api_docs/python/tf/identity)\n",
    "\n",
    "Return the outputs and final_state state in the following tuple `(Outputs, FinalState)` "
   ]
  },
  {
   "cell_type": "code",
   "execution_count": 11,
   "metadata": {
    "collapsed": false,
    "deletable": true,
    "editable": true
   },
   "outputs": [
    {
     "name": "stdout",
     "output_type": "stream",
     "text": [
      "Tests Passed\n"
     ]
    }
   ],
   "source": [
    "def build_rnn(cell, inputs):\n",
    "    \"\"\"\n",
    "    Create a RNN using a RNN Cell\n",
    "    :param cell: RNN Cell\n",
    "    :param inputs: Input text data\n",
    "    :return: Tuple (Outputs, Final State)\n",
    "    \"\"\"\n",
    "    # TODO: Implement Function\n",
    "    outputs, final_state = tf.nn.dynamic_rnn(cell, inputs, dtype=tf.float32)\n",
    "    return outputs, tf.identity(final_state, name=\"final_state\")\n",
    "\n",
    "\n",
    "\"\"\"\n",
    "DON'T MODIFY ANYTHING IN THIS CELL THAT IS BELOW THIS LINE\n",
    "\"\"\"\n",
    "tests.test_build_rnn(build_rnn)"
   ]
  },
  {
   "cell_type": "markdown",
   "metadata": {
    "deletable": true,
    "editable": true
   },
   "source": [
    "### Build the Neural Network\n",
    "Apply the functions you implemented above to:\n",
    "- Apply embedding to `input_data` using your `get_embed(input_data, vocab_size, embed_dim)` function.\n",
    "- Build RNN using `cell` and your `build_rnn(cell, inputs)` function.\n",
    "- Apply a fully connected layer with a linear activation and `vocab_size` as the number of outputs.\n",
    "\n",
    "Return the logits and final state in the following tuple (Logits, FinalState) "
   ]
  },
  {
   "cell_type": "code",
   "execution_count": 12,
   "metadata": {
    "collapsed": false,
    "deletable": true,
    "editable": true
   },
   "outputs": [
    {
     "name": "stdout",
     "output_type": "stream",
     "text": [
      "Tests Passed\n"
     ]
    }
   ],
   "source": [
    "def build_nn(cell, rnn_size, input_data, vocab_size):\n",
    "    \"\"\"\n",
    "    Build part of the neural network\n",
    "    :param cell: RNN cell\n",
    "    :param rnn_size: Size of rnns\n",
    "    :param input_data: Input data\n",
    "    :param vocab_size: Vocabulary size\n",
    "    :return: Tuple (Logits, FinalState)\n",
    "    \"\"\"\n",
    "    # TODO: Implement Function\n",
    "    inputs = get_embed(input_data, vocab_size, 200)\n",
    "    outputs, final_state = build_rnn(cell,inputs)\n",
    "    \n",
    "#     output = tf.reshape(outputs, [-1, rnn_size])\n",
    "\n",
    "#     logits = tf.contrib.layers.fully_connected(output, vocab_size, activation_fn=None)\n",
    "    \n",
    "#     logits = tf.reshape(logits, input_data.shape.as_list() + [vocab_size])\n",
    "    logits = tf.contrib.layers.fully_connected(outputs, vocab_size, activation_fn=None)\n",
    "    return logits, final_state\n",
    "\n",
    "\n",
    "\"\"\"\n",
    "DON'T MODIFY ANYTHING IN THIS CELL THAT IS BELOW THIS LINE\n",
    "\"\"\"\n",
    "tests.test_build_nn(build_nn)"
   ]
  },
  {
   "cell_type": "markdown",
   "metadata": {
    "deletable": true,
    "editable": true
   },
   "source": [
    "### Batches\n",
    "Implement `get_batches` to create batches of input and targets using `int_text`.  The batches should be a Numpy array with the shape `(number of batches, 2, batch size, sequence length)`. Each batch contains two elements:\n",
    "- The first element is a single batch of **input** with the shape `[batch size, sequence length]`\n",
    "- The second element is a single batch of **targets** with the shape `[batch size, sequence length]`\n",
    "\n",
    "If you can't fill the last batch with enough data, drop the last batch.\n",
    "\n",
    "For exmple, `get_batches([1, 2, 3, 4, 5, 6, 7, 8, 9, 10, 11, 12, 13, 14, 15], 2, 3)` would return a Numpy array of the following:\n",
    "```\n",
    "[\n",
    "  # First Batch\n",
    "  [\n",
    "    # Batch of Input\n",
    "    [[ 1  2  3], [ 7  8  9]],\n",
    "    # Batch of targets\n",
    "    [[ 2  3  4], [ 8  9 10]]\n",
    "  ],\n",
    " \n",
    "  # Second Batch\n",
    "  [\n",
    "    # Batch of Input\n",
    "    [[ 4  5  6], [10 11 12]],\n",
    "    # Batch of targets\n",
    "    [[ 5  6  7], [11 12 13]]\n",
    "  ]\n",
    "]\n",
    "```"
   ]
  },
  {
   "cell_type": "code",
   "execution_count": 13,
   "metadata": {
    "collapsed": false,
    "deletable": true,
    "editable": true
   },
   "outputs": [
    {
     "name": "stdout",
     "output_type": "stream",
     "text": [
      "Tests Passed\n"
     ]
    }
   ],
   "source": [
    "def get_batches(int_text, batch_size, seq_length):\n",
    "    \"\"\"\n",
    "    Return batches of input and target\n",
    "    :param int_text: Text with the words replaced by their ids\n",
    "    :param batch_size: The size of batch\n",
    "    :param seq_length: The length of sequence\n",
    "    :return: Batches as a Numpy array\n",
    "    \"\"\"\n",
    "    # TODO: Implement Function\n",
    "    n_batches = int(len(int_text) / (batch_size * seq_length))\n",
    "\n",
    "    # Drop the last few characters to make only full batches\n",
    "    xdata = np.array(int_text[: n_batches * batch_size * seq_length])\n",
    "    ydata = np.array(int_text[1: n_batches * batch_size * seq_length + 1])\n",
    "\n",
    "    x_batches = np.split(xdata.reshape(batch_size, -1), n_batches, 1)\n",
    "    y_batches = np.split(ydata.reshape(batch_size, -1), n_batches, 1)\n",
    "\n",
    "    return np.array(list(zip(x_batches, y_batches)))\n",
    "\n",
    "\"\"\"\n",
    "DON'T MODIFY ANYTHING IN THIS CELL THAT IS BELOW THIS LINE\n",
    "\"\"\"\n",
    "tests.test_get_batches(get_batches)"
   ]
  },
  {
   "cell_type": "markdown",
   "metadata": {
    "deletable": true,
    "editable": true
   },
   "source": [
    "## Neural Network Training\n",
    "### Hyperparameters\n",
    "Tune the following parameters:\n",
    "\n",
    "- Set `num_epochs` to the number of epochs.\n",
    "- Set `batch_size` to the batch size.\n",
    "- Set `rnn_size` to the size of the RNNs.\n",
    "- Set `seq_length` to the length of sequence.\n",
    "- Set `learning_rate` to the learning rate.\n",
    "- Set `show_every_n_batches` to the number of batches the neural network should print progress."
   ]
  },
  {
   "cell_type": "code",
   "execution_count": 38,
   "metadata": {
    "collapsed": true,
    "deletable": true,
    "editable": true
   },
   "outputs": [],
   "source": [
    "# Number of Epochs\n",
    "num_epochs = 50\n",
    "# Batch Size\n",
    "batch_size = 128\n",
    "# RNN Size\n",
    "rnn_size = 512\n",
    "# Sequence Length\n",
    "seq_length = 10\n",
    "# Learning Rate\n",
    "learning_rate = 0.01\n",
    "# Show stats for every n number of batches\n",
    "show_every_n_batches = 10\n",
    "\n",
    "\"\"\"\n",
    "DON'T MODIFY ANYTHING IN THIS CELL THAT IS BELOW THIS LINE\n",
    "\"\"\"\n",
    "save_dir = './save'"
   ]
  },
  {
   "cell_type": "markdown",
   "metadata": {
    "deletable": true,
    "editable": true
   },
   "source": [
    "### Build the Graph\n",
    "Build the graph using the neural network you implemented."
   ]
  },
  {
   "cell_type": "code",
   "execution_count": 39,
   "metadata": {
    "collapsed": false,
    "deletable": true,
    "editable": true
   },
   "outputs": [],
   "source": [
    "\"\"\"\n",
    "DON'T MODIFY ANYTHING IN THIS CELL\n",
    "\"\"\"\n",
    "from tensorflow.contrib import seq2seq\n",
    "\n",
    "train_graph = tf.Graph()\n",
    "with train_graph.as_default():\n",
    "    vocab_size = len(int_to_vocab)\n",
    "    input_text, targets, lr = get_inputs()\n",
    "    input_data_shape = tf.shape(input_text)\n",
    "    cell, initial_state = get_init_cell(input_data_shape[0], rnn_size)\n",
    "    logits, final_state = build_nn(cell, rnn_size, input_text, vocab_size)\n",
    "\n",
    "    # Probabilities for generating words\n",
    "    probs = tf.nn.softmax(logits, name='probs')\n",
    "\n",
    "    # Loss function\n",
    "    cost = seq2seq.sequence_loss(\n",
    "        logits,\n",
    "        targets,\n",
    "        tf.ones([input_data_shape[0], input_data_shape[1]]))\n",
    "\n",
    "    # Optimizer\n",
    "    optimizer = tf.train.AdamOptimizer(lr)\n",
    "\n",
    "    # Gradient Clipping\n",
    "    gradients = optimizer.compute_gradients(cost)\n",
    "    capped_gradients = [(tf.clip_by_value(grad, -1., 1.), var) for grad, var in gradients]\n",
    "    train_op = optimizer.apply_gradients(capped_gradients)"
   ]
  },
  {
   "cell_type": "markdown",
   "metadata": {
    "deletable": true,
    "editable": true
   },
   "source": [
    "## Train\n",
    "Train the neural network on the preprocessed data.  If you have a hard time getting a good loss, check the [forms](https://discussions.udacity.com/) to see if anyone is having the same problem."
   ]
  },
  {
   "cell_type": "code",
   "execution_count": 40,
   "metadata": {
    "collapsed": false,
    "deletable": true,
    "editable": true,
    "scrolled": false
   },
   "outputs": [
    {
     "name": "stdout",
     "output_type": "stream",
     "text": [
      "Epoch   0 Batch    0/53   train_loss = 8.822\n",
      "Epoch   0 Batch   10/53   train_loss = 6.404\n",
      "Epoch   0 Batch   20/53   train_loss = 6.284\n",
      "Epoch   0 Batch   30/53   train_loss = 5.895\n",
      "Epoch   0 Batch   40/53   train_loss = 5.754\n",
      "Epoch   0 Batch   50/53   train_loss = 5.525\n",
      "Epoch   1 Batch    7/53   train_loss = 5.521\n",
      "Epoch   1 Batch   17/53   train_loss = 5.292\n",
      "Epoch   1 Batch   27/53   train_loss = 5.162\n",
      "Epoch   1 Batch   37/53   train_loss = 4.940\n",
      "Epoch   1 Batch   47/53   train_loss = 4.872\n",
      "Epoch   2 Batch    4/53   train_loss = 4.825\n",
      "Epoch   2 Batch   14/53   train_loss = 4.898\n",
      "Epoch   2 Batch   24/53   train_loss = 4.821\n",
      "Epoch   2 Batch   34/53   train_loss = 4.714\n",
      "Epoch   2 Batch   44/53   train_loss = 4.671\n",
      "Epoch   3 Batch    1/53   train_loss = 4.577\n",
      "Epoch   3 Batch   11/53   train_loss = 4.514\n",
      "Epoch   3 Batch   21/53   train_loss = 4.817\n",
      "Epoch   3 Batch   31/53   train_loss = 4.460\n",
      "Epoch   3 Batch   41/53   train_loss = 4.391\n",
      "Epoch   3 Batch   51/53   train_loss = 4.510\n",
      "Epoch   4 Batch    8/53   train_loss = 4.468\n",
      "Epoch   4 Batch   18/53   train_loss = 4.477\n",
      "Epoch   4 Batch   28/53   train_loss = 4.281\n",
      "Epoch   4 Batch   38/53   train_loss = 4.205\n",
      "Epoch   4 Batch   48/53   train_loss = 4.339\n",
      "Epoch   5 Batch    5/53   train_loss = 4.327\n",
      "Epoch   5 Batch   15/53   train_loss = 4.330\n",
      "Epoch   5 Batch   25/53   train_loss = 4.224\n",
      "Epoch   5 Batch   35/53   train_loss = 4.078\n",
      "Epoch   5 Batch   45/53   train_loss = 4.060\n",
      "Epoch   6 Batch    2/53   train_loss = 4.057\n",
      "Epoch   6 Batch   12/53   train_loss = 3.979\n",
      "Epoch   6 Batch   22/53   train_loss = 3.863\n",
      "Epoch   6 Batch   32/53   train_loss = 3.941\n",
      "Epoch   6 Batch   42/53   train_loss = 3.904\n",
      "Epoch   6 Batch   52/53   train_loss = 3.817\n",
      "Epoch   7 Batch    9/53   train_loss = 3.931\n",
      "Epoch   7 Batch   19/53   train_loss = 3.762\n",
      "Epoch   7 Batch   29/53   train_loss = 3.822\n",
      "Epoch   7 Batch   39/53   train_loss = 3.757\n",
      "Epoch   7 Batch   49/53   train_loss = 3.833\n",
      "Epoch   8 Batch    6/53   train_loss = 3.827\n",
      "Epoch   8 Batch   16/53   train_loss = 3.741\n",
      "Epoch   8 Batch   26/53   train_loss = 3.744\n",
      "Epoch   8 Batch   36/53   train_loss = 3.687\n",
      "Epoch   8 Batch   46/53   train_loss = 3.832\n",
      "Epoch   9 Batch    3/53   train_loss = 3.606\n",
      "Epoch   9 Batch   13/53   train_loss = 3.684\n",
      "Epoch   9 Batch   23/53   train_loss = 3.666\n",
      "Epoch   9 Batch   33/53   train_loss = 3.448\n",
      "Epoch   9 Batch   43/53   train_loss = 3.477\n",
      "Epoch  10 Batch    0/53   train_loss = 3.609\n",
      "Epoch  10 Batch   10/53   train_loss = 3.522\n",
      "Epoch  10 Batch   20/53   train_loss = 3.476\n",
      "Epoch  10 Batch   30/53   train_loss = 3.446\n",
      "Epoch  10 Batch   40/53   train_loss = 3.289\n",
      "Epoch  10 Batch   50/53   train_loss = 3.429\n",
      "Epoch  11 Batch    7/53   train_loss = 3.502\n",
      "Epoch  11 Batch   17/53   train_loss = 3.318\n",
      "Epoch  11 Batch   27/53   train_loss = 3.355\n",
      "Epoch  11 Batch   37/53   train_loss = 3.258\n",
      "Epoch  11 Batch   47/53   train_loss = 3.258\n",
      "Epoch  12 Batch    4/53   train_loss = 3.187\n",
      "Epoch  12 Batch   14/53   train_loss = 3.169\n",
      "Epoch  12 Batch   24/53   train_loss = 3.069\n",
      "Epoch  12 Batch   34/53   train_loss = 3.130\n",
      "Epoch  12 Batch   44/53   train_loss = 3.148\n",
      "Epoch  13 Batch    1/53   train_loss = 2.836\n",
      "Epoch  13 Batch   11/53   train_loss = 3.029\n",
      "Epoch  13 Batch   21/53   train_loss = 3.022\n",
      "Epoch  13 Batch   31/53   train_loss = 2.914\n",
      "Epoch  13 Batch   41/53   train_loss = 2.912\n",
      "Epoch  13 Batch   51/53   train_loss = 2.866\n",
      "Epoch  14 Batch    8/53   train_loss = 2.880\n",
      "Epoch  14 Batch   18/53   train_loss = 2.976\n",
      "Epoch  14 Batch   28/53   train_loss = 2.938\n",
      "Epoch  14 Batch   38/53   train_loss = 2.910\n",
      "Epoch  14 Batch   48/53   train_loss = 2.831\n",
      "Epoch  15 Batch    5/53   train_loss = 2.930\n",
      "Epoch  15 Batch   15/53   train_loss = 2.759\n",
      "Epoch  15 Batch   25/53   train_loss = 2.808\n",
      "Epoch  15 Batch   35/53   train_loss = 2.689\n",
      "Epoch  15 Batch   45/53   train_loss = 2.770\n",
      "Epoch  16 Batch    2/53   train_loss = 2.699\n",
      "Epoch  16 Batch   12/53   train_loss = 2.693\n",
      "Epoch  16 Batch   22/53   train_loss = 2.583\n",
      "Epoch  16 Batch   32/53   train_loss = 2.527\n",
      "Epoch  16 Batch   42/53   train_loss = 2.431\n",
      "Epoch  16 Batch   52/53   train_loss = 2.582\n",
      "Epoch  17 Batch    9/53   train_loss = 2.448\n",
      "Epoch  17 Batch   19/53   train_loss = 2.462\n",
      "Epoch  17 Batch   29/53   train_loss = 2.450\n",
      "Epoch  17 Batch   39/53   train_loss = 2.330\n",
      "Epoch  17 Batch   49/53   train_loss = 2.367\n",
      "Epoch  18 Batch    6/53   train_loss = 2.379\n",
      "Epoch  18 Batch   16/53   train_loss = 2.227\n",
      "Epoch  18 Batch   26/53   train_loss = 2.074\n",
      "Epoch  18 Batch   36/53   train_loss = 2.228\n",
      "Epoch  18 Batch   46/53   train_loss = 2.214\n",
      "Epoch  19 Batch    3/53   train_loss = 2.137\n",
      "Epoch  19 Batch   13/53   train_loss = 2.227\n",
      "Epoch  19 Batch   23/53   train_loss = 2.057\n",
      "Epoch  19 Batch   33/53   train_loss = 2.014\n",
      "Epoch  19 Batch   43/53   train_loss = 2.018\n",
      "Epoch  20 Batch    0/53   train_loss = 2.036\n",
      "Epoch  20 Batch   10/53   train_loss = 1.865\n",
      "Epoch  20 Batch   20/53   train_loss = 1.851\n",
      "Epoch  20 Batch   30/53   train_loss = 1.855\n",
      "Epoch  20 Batch   40/53   train_loss = 1.911\n",
      "Epoch  20 Batch   50/53   train_loss = 1.909\n",
      "Epoch  21 Batch    7/53   train_loss = 1.859\n",
      "Epoch  21 Batch   17/53   train_loss = 1.706\n",
      "Epoch  21 Batch   27/53   train_loss = 1.749\n",
      "Epoch  21 Batch   37/53   train_loss = 1.695\n",
      "Epoch  21 Batch   47/53   train_loss = 1.771\n",
      "Epoch  22 Batch    4/53   train_loss = 1.724\n",
      "Epoch  22 Batch   14/53   train_loss = 1.590\n",
      "Epoch  22 Batch   24/53   train_loss = 1.437\n",
      "Epoch  22 Batch   34/53   train_loss = 1.539\n",
      "Epoch  22 Batch   44/53   train_loss = 1.618\n",
      "Epoch  23 Batch    1/53   train_loss = 1.448\n",
      "Epoch  23 Batch   11/53   train_loss = 1.571\n",
      "Epoch  23 Batch   21/53   train_loss = 1.321\n",
      "Epoch  23 Batch   31/53   train_loss = 1.461\n",
      "Epoch  23 Batch   41/53   train_loss = 1.377\n",
      "Epoch  23 Batch   51/53   train_loss = 1.362\n",
      "Epoch  24 Batch    8/53   train_loss = 1.346\n",
      "Epoch  24 Batch   18/53   train_loss = 1.448\n",
      "Epoch  24 Batch   28/53   train_loss = 1.378\n",
      "Epoch  24 Batch   38/53   train_loss = 1.355\n",
      "Epoch  24 Batch   48/53   train_loss = 1.281\n",
      "Epoch  25 Batch    5/53   train_loss = 1.426\n",
      "Epoch  25 Batch   15/53   train_loss = 1.288\n",
      "Epoch  25 Batch   25/53   train_loss = 1.320\n",
      "Epoch  25 Batch   35/53   train_loss = 1.222\n",
      "Epoch  25 Batch   45/53   train_loss = 1.279\n",
      "Epoch  26 Batch    2/53   train_loss = 1.273\n",
      "Epoch  26 Batch   12/53   train_loss = 1.181\n",
      "Epoch  26 Batch   22/53   train_loss = 1.205\n",
      "Epoch  26 Batch   32/53   train_loss = 1.075\n",
      "Epoch  26 Batch   42/53   train_loss = 1.029\n",
      "Epoch  26 Batch   52/53   train_loss = 1.223\n",
      "Epoch  27 Batch    9/53   train_loss = 1.044\n",
      "Epoch  27 Batch   19/53   train_loss = 1.122\n",
      "Epoch  27 Batch   29/53   train_loss = 1.098\n",
      "Epoch  27 Batch   39/53   train_loss = 1.016\n",
      "Epoch  27 Batch   49/53   train_loss = 1.069\n",
      "Epoch  28 Batch    6/53   train_loss = 1.058\n",
      "Epoch  28 Batch   16/53   train_loss = 1.028\n",
      "Epoch  28 Batch   26/53   train_loss = 0.851\n",
      "Epoch  28 Batch   36/53   train_loss = 1.001\n",
      "Epoch  28 Batch   46/53   train_loss = 1.025\n",
      "Epoch  29 Batch    3/53   train_loss = 0.990\n",
      "Epoch  29 Batch   13/53   train_loss = 0.969\n",
      "Epoch  29 Batch   23/53   train_loss = 0.928\n",
      "Epoch  29 Batch   33/53   train_loss = 0.910\n",
      "Epoch  29 Batch   43/53   train_loss = 0.888\n",
      "Epoch  30 Batch    0/53   train_loss = 0.941\n",
      "Epoch  30 Batch   10/53   train_loss = 0.887\n",
      "Epoch  30 Batch   20/53   train_loss = 0.878\n",
      "Epoch  30 Batch   30/53   train_loss = 0.897\n",
      "Epoch  30 Batch   40/53   train_loss = 0.899\n",
      "Epoch  30 Batch   50/53   train_loss = 0.845\n",
      "Epoch  31 Batch    7/53   train_loss = 0.840\n",
      "Epoch  31 Batch   17/53   train_loss = 0.789\n",
      "Epoch  31 Batch   27/53   train_loss = 0.872\n",
      "Epoch  31 Batch   37/53   train_loss = 0.819\n",
      "Epoch  31 Batch   47/53   train_loss = 0.782\n",
      "Epoch  32 Batch    4/53   train_loss = 0.813\n",
      "Epoch  32 Batch   14/53   train_loss = 0.806\n",
      "Epoch  32 Batch   24/53   train_loss = 0.678\n",
      "Epoch  32 Batch   34/53   train_loss = 0.779\n",
      "Epoch  32 Batch   44/53   train_loss = 0.780\n",
      "Epoch  33 Batch    1/53   train_loss = 0.753\n",
      "Epoch  33 Batch   11/53   train_loss = 0.831\n",
      "Epoch  33 Batch   21/53   train_loss = 0.714\n",
      "Epoch  33 Batch   31/53   train_loss = 0.763\n",
      "Epoch  33 Batch   41/53   train_loss = 0.725\n",
      "Epoch  33 Batch   51/53   train_loss = 0.658\n",
      "Epoch  34 Batch    8/53   train_loss = 0.722\n",
      "Epoch  34 Batch   18/53   train_loss = 0.726\n",
      "Epoch  34 Batch   28/53   train_loss = 0.710\n",
      "Epoch  34 Batch   38/53   train_loss = 0.767\n",
      "Epoch  34 Batch   48/53   train_loss = 0.670\n",
      "Epoch  35 Batch    5/53   train_loss = 0.741\n",
      "Epoch  35 Batch   15/53   train_loss = 0.702\n",
      "Epoch  35 Batch   25/53   train_loss = 0.701\n",
      "Epoch  35 Batch   35/53   train_loss = 0.630\n",
      "Epoch  35 Batch   45/53   train_loss = 0.686\n",
      "Epoch  36 Batch    2/53   train_loss = 0.669\n",
      "Epoch  36 Batch   12/53   train_loss = 0.639\n",
      "Epoch  36 Batch   22/53   train_loss = 0.639\n",
      "Epoch  36 Batch   32/53   train_loss = 0.621\n",
      "Epoch  36 Batch   42/53   train_loss = 0.614\n",
      "Epoch  36 Batch   52/53   train_loss = 0.642\n",
      "Epoch  37 Batch    9/53   train_loss = 0.557\n",
      "Epoch  37 Batch   19/53   train_loss = 0.620\n",
      "Epoch  37 Batch   29/53   train_loss = 0.593\n",
      "Epoch  37 Batch   39/53   train_loss = 0.581\n",
      "Epoch  37 Batch   49/53   train_loss = 0.596\n",
      "Epoch  38 Batch    6/53   train_loss = 0.553\n",
      "Epoch  38 Batch   16/53   train_loss = 0.551\n",
      "Epoch  38 Batch   26/53   train_loss = 0.499\n",
      "Epoch  38 Batch   36/53   train_loss = 0.583\n",
      "Epoch  38 Batch   46/53   train_loss = 0.569\n",
      "Epoch  39 Batch    3/53   train_loss = 0.545\n",
      "Epoch  39 Batch   13/53   train_loss = 0.555\n",
      "Epoch  39 Batch   23/53   train_loss = 0.542\n",
      "Epoch  39 Batch   33/53   train_loss = 0.518\n",
      "Epoch  39 Batch   43/53   train_loss = 0.535\n",
      "Epoch  40 Batch    0/53   train_loss = 0.565\n",
      "Epoch  40 Batch   10/53   train_loss = 0.492\n",
      "Epoch  40 Batch   20/53   train_loss = 0.502\n",
      "Epoch  40 Batch   30/53   train_loss = 0.533\n",
      "Epoch  40 Batch   40/53   train_loss = 0.539\n",
      "Epoch  40 Batch   50/53   train_loss = 0.494\n",
      "Epoch  41 Batch    7/53   train_loss = 0.470\n",
      "Epoch  41 Batch   17/53   train_loss = 0.436\n",
      "Epoch  41 Batch   27/53   train_loss = 0.524\n",
      "Epoch  41 Batch   37/53   train_loss = 0.469\n",
      "Epoch  41 Batch   47/53   train_loss = 0.458\n",
      "Epoch  42 Batch    4/53   train_loss = 0.494\n",
      "Epoch  42 Batch   14/53   train_loss = 0.500\n",
      "Epoch  42 Batch   24/53   train_loss = 0.400\n",
      "Epoch  42 Batch   34/53   train_loss = 0.447\n",
      "Epoch  42 Batch   44/53   train_loss = 0.463\n",
      "Epoch  43 Batch    1/53   train_loss = 0.458\n",
      "Epoch  43 Batch   11/53   train_loss = 0.462\n",
      "Epoch  43 Batch   21/53   train_loss = 0.431\n",
      "Epoch  43 Batch   31/53   train_loss = 0.447\n",
      "Epoch  43 Batch   41/53   train_loss = 0.442\n",
      "Epoch  43 Batch   51/53   train_loss = 0.420\n",
      "Epoch  44 Batch    8/53   train_loss = 0.418\n",
      "Epoch  44 Batch   18/53   train_loss = 0.439\n",
      "Epoch  44 Batch   28/53   train_loss = 0.412\n",
      "Epoch  44 Batch   38/53   train_loss = 0.474\n",
      "Epoch  44 Batch   48/53   train_loss = 0.423\n",
      "Epoch  45 Batch    5/53   train_loss = 0.461\n",
      "Epoch  45 Batch   15/53   train_loss = 0.435\n",
      "Epoch  45 Batch   25/53   train_loss = 0.437\n",
      "Epoch  45 Batch   35/53   train_loss = 0.402\n",
      "Epoch  45 Batch   45/53   train_loss = 0.410\n",
      "Epoch  46 Batch    2/53   train_loss = 0.428\n",
      "Epoch  46 Batch   12/53   train_loss = 0.421\n",
      "Epoch  46 Batch   22/53   train_loss = 0.417\n",
      "Epoch  46 Batch   32/53   train_loss = 0.378\n",
      "Epoch  46 Batch   42/53   train_loss = 0.427\n",
      "Epoch  46 Batch   52/53   train_loss = 0.435\n",
      "Epoch  47 Batch    9/53   train_loss = 0.394\n",
      "Epoch  47 Batch   19/53   train_loss = 0.403\n",
      "Epoch  47 Batch   29/53   train_loss = 0.414\n",
      "Epoch  47 Batch   39/53   train_loss = 0.400\n",
      "Epoch  47 Batch   49/53   train_loss = 0.421\n",
      "Epoch  48 Batch    6/53   train_loss = 0.385\n",
      "Epoch  48 Batch   16/53   train_loss = 0.394\n",
      "Epoch  48 Batch   26/53   train_loss = 0.355\n",
      "Epoch  48 Batch   36/53   train_loss = 0.425\n",
      "Epoch  48 Batch   46/53   train_loss = 0.380\n",
      "Epoch  49 Batch    3/53   train_loss = 0.408\n",
      "Epoch  49 Batch   13/53   train_loss = 0.418\n",
      "Epoch  49 Batch   23/53   train_loss = 0.422\n",
      "Epoch  49 Batch   33/53   train_loss = 0.400\n",
      "Epoch  49 Batch   43/53   train_loss = 0.415\n",
      "Model Trained and Saved\n"
     ]
    }
   ],
   "source": [
    "\"\"\"\n",
    "DON'T MODIFY ANYTHING IN THIS CELL\n",
    "\"\"\"\n",
    "batches = get_batches(int_text, batch_size, seq_length)\n",
    "\n",
    "with tf.Session(graph=train_graph) as sess:\n",
    "    sess.run(tf.global_variables_initializer())\n",
    "\n",
    "    for epoch_i in range(num_epochs):\n",
    "        state = sess.run(initial_state, {input_text: batches[0][0]})\n",
    "\n",
    "        for batch_i, (x, y) in enumerate(batches):\n",
    "            feed = {\n",
    "                input_text: x,\n",
    "                targets: y,\n",
    "                initial_state: state,\n",
    "                lr: learning_rate}\n",
    "            train_loss, state, _ = sess.run([cost, final_state, train_op], feed)\n",
    "\n",
    "            # Show every <show_every_n_batches> batches\n",
    "            if (epoch_i * len(batches) + batch_i) % show_every_n_batches == 0:\n",
    "                print('Epoch {:>3} Batch {:>4}/{}   train_loss = {:.3f}'.format(\n",
    "                    epoch_i,\n",
    "                    batch_i,\n",
    "                    len(batches),\n",
    "                    train_loss))\n",
    "\n",
    "    # Save Model\n",
    "    saver = tf.train.Saver()\n",
    "    saver.save(sess, save_dir)\n",
    "    print('Model Trained and Saved')"
   ]
  },
  {
   "cell_type": "markdown",
   "metadata": {
    "deletable": true,
    "editable": true
   },
   "source": [
    "## Save Parameters\n",
    "Save `seq_length` and `save_dir` for generating a new TV script."
   ]
  },
  {
   "cell_type": "code",
   "execution_count": 41,
   "metadata": {
    "collapsed": false,
    "deletable": true,
    "editable": true
   },
   "outputs": [],
   "source": [
    "\"\"\"\n",
    "DON'T MODIFY ANYTHING IN THIS CELL\n",
    "\"\"\"\n",
    "# Save parameters for checkpoint\n",
    "helper.save_params((seq_length, save_dir))"
   ]
  },
  {
   "cell_type": "markdown",
   "metadata": {
    "deletable": true,
    "editable": true
   },
   "source": [
    "# Checkpoint"
   ]
  },
  {
   "cell_type": "code",
   "execution_count": 42,
   "metadata": {
    "collapsed": false,
    "deletable": true,
    "editable": true
   },
   "outputs": [],
   "source": [
    "\"\"\"\n",
    "DON'T MODIFY ANYTHING IN THIS CELL\n",
    "\"\"\"\n",
    "import tensorflow as tf\n",
    "import numpy as np\n",
    "import helper\n",
    "import problem_unittests as tests\n",
    "\n",
    "_, vocab_to_int, int_to_vocab, token_dict = helper.load_preprocess()\n",
    "seq_length, load_dir = helper.load_params()"
   ]
  },
  {
   "cell_type": "markdown",
   "metadata": {
    "deletable": true,
    "editable": true
   },
   "source": [
    "## Implement Generate Functions\n",
    "### Get Tensors\n",
    "Get tensors from `loaded_graph` using the function [`get_tensor_by_name()`](https://www.tensorflow.org/api_docs/python/tf/Graph#get_tensor_by_name).  Get the tensors using the following names:\n",
    "- \"input:0\"\n",
    "- \"initial_state:0\"\n",
    "- \"final_state:0\"\n",
    "- \"probs:0\"\n",
    "\n",
    "Return the tensors in the following tuple `(InputTensor, InitialStateTensor, FinalStateTensor, ProbsTensor)` "
   ]
  },
  {
   "cell_type": "code",
   "execution_count": 43,
   "metadata": {
    "collapsed": false,
    "deletable": true,
    "editable": true
   },
   "outputs": [
    {
     "name": "stdout",
     "output_type": "stream",
     "text": [
      "Tests Passed\n"
     ]
    }
   ],
   "source": [
    "def get_tensors(loaded_graph):\n",
    "    \"\"\"\n",
    "    Get input, initial state, final state, and probabilities tensor from <loaded_graph>\n",
    "    :param loaded_graph: TensorFlow graph loaded from file\n",
    "    :return: Tuple (InputTensor, InitialStateTensor, FinalStateTensor, ProbsTensor)\n",
    "    \"\"\"\n",
    "    # TODO: Implement Function\n",
    "    return loaded_graph.get_tensor_by_name(\"input:0\"), loaded_graph.get_tensor_by_name(\"initial_state:0\"), loaded_graph.get_tensor_by_name(\"final_state:0\"), loaded_graph.get_tensor_by_name(\"probs:0\")\n",
    "\n",
    "\n",
    "\"\"\"\n",
    "DON'T MODIFY ANYTHING IN THIS CELL THAT IS BELOW THIS LINE\n",
    "\"\"\"\n",
    "tests.test_get_tensors(get_tensors)"
   ]
  },
  {
   "cell_type": "markdown",
   "metadata": {
    "deletable": true,
    "editable": true
   },
   "source": [
    "### Choose Word\n",
    "Implement the `pick_word()` function to select the next word using `probabilities`."
   ]
  },
  {
   "cell_type": "code",
   "execution_count": 52,
   "metadata": {
    "collapsed": false,
    "deletable": true,
    "editable": true
   },
   "outputs": [
    {
     "name": "stdout",
     "output_type": "stream",
     "text": [
      "Tests Passed\n"
     ]
    }
   ],
   "source": [
    "def pick_word(probabilities, int_to_vocab):\n",
    "    \"\"\"\n",
    "    Pick the next word in the generated text\n",
    "    :param probabilities: Probabilites of the next word\n",
    "    :param int_to_vocab: Dictionary of word ids as the keys and words as the values\n",
    "    :return: String of the predicted word\n",
    "    \"\"\"\n",
    "    # TODO: Implement Function\n",
    "    return int_to_vocab[np.argmax(probabilities)]\n",
    "\n",
    "\"\"\"\n",
    "DON'T MODIFY ANYTHING IN THIS CELL THAT IS BELOW THIS LINE\n",
    "\"\"\"\n",
    "tests.test_pick_word(pick_word)"
   ]
  },
  {
   "cell_type": "markdown",
   "metadata": {
    "deletable": true,
    "editable": true
   },
   "source": [
    "## Generate TV Script\n",
    "This will generate the TV script for you.  Set `gen_length` to the length of TV script you want to generate."
   ]
  },
  {
   "cell_type": "code",
   "execution_count": 53,
   "metadata": {
    "collapsed": false,
    "deletable": true,
    "editable": true
   },
   "outputs": [
    {
     "name": "stdout",
     "output_type": "stream",
     "text": [
      "moe_szyslak:(pulls out a shotgun) that is the wrong thing.\n",
      "barney_gumble: you know, if you're not? you're gettin' the money, homer?\n",
      "homer_simpson:(still been looking) huh? heh? i don't need another. but i think i'll have to go to the situation?\n",
      "homer_simpson: moe, you know, who are you, mr...\n",
      "homer_simpson: fine. now, the little cutie(laughs) get ya from moe.\n",
      "homer_simpson: and i'm thankful i got this friend.\n",
      "moe_szyslak: this detective is unbelievable. a guy who said so much hard ever come in here.\n",
      "moe_szyslak:(nervous chuckle) i guess the be sharps.\n",
      "moe_szyslak: well, i aims to get up with the kids.\n",
      "homer_simpson: how could you just make a word in the first place in a place match in my house.\n",
      "homer_simpson: you counting the nose... and then what about i know a guy. they're their man was too much emphasis on the beach with their cheap at the second.\n",
      "homer_simpson: why\n"
     ]
    }
   ],
   "source": [
    "gen_length = 200\n",
    "# homer_simpson, moe_szyslak, or Barney_Gumble\n",
    "prime_word = 'moe_szyslak'\n",
    "\n",
    "\"\"\"\n",
    "DON'T MODIFY ANYTHING IN THIS CELL THAT IS BELOW THIS LINE\n",
    "\"\"\"\n",
    "loaded_graph = tf.Graph()\n",
    "with tf.Session(graph=loaded_graph) as sess:\n",
    "    # Load saved model\n",
    "    loader = tf.train.import_meta_graph(load_dir + '.meta')\n",
    "    loader.restore(sess, load_dir)\n",
    "\n",
    "    # Get Tensors from loaded model\n",
    "    input_text, initial_state, final_state, probs = get_tensors(loaded_graph)\n",
    "\n",
    "    # Sentences generation setup\n",
    "    gen_sentences = [prime_word + ':']\n",
    "    prev_state = sess.run(initial_state, {input_text: np.array([[1]])})\n",
    "\n",
    "    # Generate sentences\n",
    "    for n in range(gen_length):\n",
    "        # Dynamic Input\n",
    "        dyn_input = [[vocab_to_int[word] for word in gen_sentences[-seq_length:]]]\n",
    "        dyn_seq_length = len(dyn_input[0])\n",
    "\n",
    "        # Get Prediction\n",
    "        probabilities, prev_state = sess.run(\n",
    "            [probs, final_state],\n",
    "            {input_text: dyn_input, initial_state: prev_state})\n",
    "        \n",
    "        pred_word = pick_word(probabilities[dyn_seq_length-1], int_to_vocab)\n",
    "\n",
    "        gen_sentences.append(pred_word)\n",
    "    \n",
    "    # Remove tokens\n",
    "    tv_script = ' '.join(gen_sentences)\n",
    "    for key, token in token_dict.items():\n",
    "        ending = ' ' if key in ['\\n', '(', '\"'] else ''\n",
    "        tv_script = tv_script.replace(' ' + token.lower(), key)\n",
    "    tv_script = tv_script.replace('\\n ', '\\n')\n",
    "    tv_script = tv_script.replace('( ', '(')\n",
    "        \n",
    "    print(tv_script)"
   ]
  },
  {
   "cell_type": "markdown",
   "metadata": {
    "deletable": true,
    "editable": true
   },
   "source": [
    "# The TV Script is Nonsensical\n",
    "It's ok if the TV script doesn't make any sense.  We trained on less than a megabyte of text.  In order to get good results, you'll have to use a smaller vocabulary or get more data.  Luckly there's more data!  As we mentioned in the begging of this project, this is a subset of [another dataset](https://www.kaggle.com/wcukierski/the-simpsons-by-the-data).  We didn't have you train on all the data, because that would take too long.  However, you are free to train your neural network on all the data.  After you complete the project, of course.\n",
    "# Submitting This Project\n",
    "When submitting this project, make sure to run all the cells before saving the notebook. Save the notebook file as \"dlnd_tv_script_generation.ipynb\" and save it as a HTML file under \"File\" -> \"Download as\". Include the \"helper.py\" and \"problem_unittests.py\" files in your submission."
   ]
  }
 ],
 "metadata": {
  "kernelspec": {
   "display_name": "Python 3",
   "language": "python",
   "name": "python3"
  },
  "language_info": {
   "codemirror_mode": {
    "name": "ipython",
    "version": 3
   },
   "file_extension": ".py",
   "mimetype": "text/x-python",
   "name": "python",
   "nbconvert_exporter": "python",
   "pygments_lexer": "ipython3",
   "version": "3.5.2"
  },
  "widgets": {
   "state": {},
   "version": "1.1.2"
  }
 },
 "nbformat": 4,
 "nbformat_minor": 0
}
